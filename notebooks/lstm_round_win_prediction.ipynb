{
 "cells": [
  {
   "cell_type": "markdown",
   "id": "5d809704",
   "metadata": {},
   "source": [
    "# CS:GO Round Win Prediction with LSTM\n",
    "\n",
    "This notebook demonstrates how to use the LSTM model to predict CS:GO round outcomes. The model processes sequential data from round frames and outputs win probabilities for each frame within the round."
   ]
  },
  {
   "cell_type": "markdown",
   "id": "55e66133",
   "metadata": {},
   "source": [
    "## Setup\n",
    "\n",
    "First, let's import the necessary libraries and set up our environment."
   ]
  },
  {
   "cell_type": "code",
   "execution_count": 31,
   "id": "80bf3812",
   "metadata": {},
   "outputs": [
    {
     "name": "stdout",
     "output_type": "stream",
     "text": [
      "Using device: cuda\n"
     ]
    }
   ],
   "source": [
    "import os\n",
    "import torch\n",
    "import pandas as pd\n",
    "import numpy as np\n",
    "import matplotlib.pyplot as plt\n",
    "from pathlib import Path\n",
    "import seaborn as sns\n",
    "\n",
    "# Import our package\n",
    "from mbml.model import LSTMWinPredictor\n",
    "from mbml.dataset import create_dataloaders\n",
    "from mbml.train import train_model\n",
    "from mbml.predict import batch_predict_rounds, visualize_round_predictions\n",
    "\n",
    "# Set the paths\n",
    "CSV_PATH = \"../round_frame_data.csv\"\n",
    "MODEL_DIR = \"../models/lstm_notebook\"\n",
    "OUTPUT_DIR = \"../reports/figures/notebook_examples\"\n",
    "\n",
    "# Create directories\n",
    "Path(MODEL_DIR).mkdir(parents=True, exist_ok=True)\n",
    "Path(OUTPUT_DIR).mkdir(parents=True, exist_ok=True)\n",
    "\n",
    "# Set device\n",
    "device = torch.device('cuda' if torch.cuda.is_available() else 'cpu')\n",
    "print(f\"Using device: {device}\")"
   ]
  },
  {
   "cell_type": "markdown",
   "id": "73d3f8c4",
   "metadata": {},
   "source": [
    "## 1. Explore the Data\n",
    "\n",
    "Let's first take a look at the data to understand its structure."
   ]
  },
  {
   "cell_type": "code",
   "execution_count": 32,
   "id": "5e754870",
   "metadata": {},
   "outputs": [
    {
     "name": "stdout",
     "output_type": "stream",
     "text": [
      "DataFrame shape: (1000, 21)\n",
      "\n",
      "Columns:\n",
      "['round_idx', 'ctTeam', 'tTeam', 'ctBuyType', 'tBuyType', 'ctEqVal', 'tEqVal', 'ctSpend', 'tSpend', 'rnd_winner', 'match_id', 'team1_score', 'team2_score', 'tick', 'seconds', 'clock', 'bomb_planted', 'num_util_ct', 'num_util_t', 'num_ct_alive', 'num_t_alive']\n"
     ]
    },
    {
     "data": {
      "application/vnd.microsoft.datawrangler.viewer.v0+json": {
       "columns": [
        {
         "name": "index",
         "rawType": "int64",
         "type": "integer"
        },
        {
         "name": "round_idx",
         "rawType": "int64",
         "type": "integer"
        },
        {
         "name": "ctTeam",
         "rawType": "object",
         "type": "string"
        },
        {
         "name": "tTeam",
         "rawType": "object",
         "type": "string"
        },
        {
         "name": "ctBuyType",
         "rawType": "object",
         "type": "string"
        },
        {
         "name": "tBuyType",
         "rawType": "object",
         "type": "string"
        },
        {
         "name": "ctEqVal",
         "rawType": "int64",
         "type": "integer"
        },
        {
         "name": "tEqVal",
         "rawType": "int64",
         "type": "integer"
        },
        {
         "name": "ctSpend",
         "rawType": "int64",
         "type": "integer"
        },
        {
         "name": "tSpend",
         "rawType": "int64",
         "type": "integer"
        },
        {
         "name": "rnd_winner",
         "rawType": "object",
         "type": "string"
        },
        {
         "name": "match_id",
         "rawType": "object",
         "type": "string"
        },
        {
         "name": "team1_score",
         "rawType": "int64",
         "type": "integer"
        },
        {
         "name": "team2_score",
         "rawType": "int64",
         "type": "integer"
        },
        {
         "name": "tick",
         "rawType": "int64",
         "type": "integer"
        },
        {
         "name": "seconds",
         "rawType": "float64",
         "type": "float"
        },
        {
         "name": "clock",
         "rawType": "object",
         "type": "string"
        },
        {
         "name": "bomb_planted",
         "rawType": "bool",
         "type": "boolean"
        },
        {
         "name": "num_util_ct",
         "rawType": "int64",
         "type": "integer"
        },
        {
         "name": "num_util_t",
         "rawType": "int64",
         "type": "integer"
        },
        {
         "name": "num_ct_alive",
         "rawType": "int64",
         "type": "integer"
        },
        {
         "name": "num_t_alive",
         "rawType": "int64",
         "type": "integer"
        }
       ],
       "ref": "f6c61c17-9e0a-4e5c-be26-e5b8317eb1f8",
       "rows": [
        [
         "0",
         "0",
         "BIG",
         "Astralis",
         "Full Eco",
         "Full Eco",
         "1000",
         "1000",
         "3400",
         "3450",
         "T",
         "0013db25-4444-452b-980b-7702dc6fb810.json",
         "0",
         "0",
         "3711",
         "0.0078740157480314",
         "01:55",
         "False",
         "1",
         "4",
         "5",
         "5"
        ],
        [
         "1",
         "0",
         "BIG",
         "Astralis",
         "Full Eco",
         "Full Eco",
         "1000",
         "1000",
         "3400",
         "3450",
         "T",
         "0013db25-4444-452b-980b-7702dc6fb810.json",
         "0",
         "0",
         "3775",
         "0.5118110236220472",
         "01:55",
         "False",
         "1",
         "4",
         "5",
         "5"
        ],
        [
         "2",
         "0",
         "BIG",
         "Astralis",
         "Full Eco",
         "Full Eco",
         "1000",
         "1000",
         "3400",
         "3450",
         "T",
         "0013db25-4444-452b-980b-7702dc6fb810.json",
         "0",
         "0",
         "3839",
         "1.015748031496063",
         "01:54",
         "False",
         "1",
         "4",
         "5",
         "5"
        ],
        [
         "3",
         "0",
         "BIG",
         "Astralis",
         "Full Eco",
         "Full Eco",
         "1000",
         "1000",
         "3400",
         "3450",
         "T",
         "0013db25-4444-452b-980b-7702dc6fb810.json",
         "0",
         "0",
         "3903",
         "1.5196850393700787",
         "01:54",
         "False",
         "1",
         "4",
         "5",
         "5"
        ],
        [
         "4",
         "0",
         "BIG",
         "Astralis",
         "Full Eco",
         "Full Eco",
         "1000",
         "1000",
         "3400",
         "3450",
         "T",
         "0013db25-4444-452b-980b-7702dc6fb810.json",
         "0",
         "0",
         "3967",
         "2.0236220472440944",
         "01:53",
         "False",
         "1",
         "4",
         "5",
         "5"
        ]
       ],
       "shape": {
        "columns": 21,
        "rows": 5
       }
      },
      "text/html": [
       "<div>\n",
       "<style scoped>\n",
       "    .dataframe tbody tr th:only-of-type {\n",
       "        vertical-align: middle;\n",
       "    }\n",
       "\n",
       "    .dataframe tbody tr th {\n",
       "        vertical-align: top;\n",
       "    }\n",
       "\n",
       "    .dataframe thead th {\n",
       "        text-align: right;\n",
       "    }\n",
       "</style>\n",
       "<table border=\"1\" class=\"dataframe\">\n",
       "  <thead>\n",
       "    <tr style=\"text-align: right;\">\n",
       "      <th></th>\n",
       "      <th>round_idx</th>\n",
       "      <th>ctTeam</th>\n",
       "      <th>tTeam</th>\n",
       "      <th>ctBuyType</th>\n",
       "      <th>tBuyType</th>\n",
       "      <th>ctEqVal</th>\n",
       "      <th>tEqVal</th>\n",
       "      <th>ctSpend</th>\n",
       "      <th>tSpend</th>\n",
       "      <th>rnd_winner</th>\n",
       "      <th>...</th>\n",
       "      <th>team1_score</th>\n",
       "      <th>team2_score</th>\n",
       "      <th>tick</th>\n",
       "      <th>seconds</th>\n",
       "      <th>clock</th>\n",
       "      <th>bomb_planted</th>\n",
       "      <th>num_util_ct</th>\n",
       "      <th>num_util_t</th>\n",
       "      <th>num_ct_alive</th>\n",
       "      <th>num_t_alive</th>\n",
       "    </tr>\n",
       "  </thead>\n",
       "  <tbody>\n",
       "    <tr>\n",
       "      <th>0</th>\n",
       "      <td>0</td>\n",
       "      <td>BIG</td>\n",
       "      <td>Astralis</td>\n",
       "      <td>Full Eco</td>\n",
       "      <td>Full Eco</td>\n",
       "      <td>1000</td>\n",
       "      <td>1000</td>\n",
       "      <td>3400</td>\n",
       "      <td>3450</td>\n",
       "      <td>T</td>\n",
       "      <td>...</td>\n",
       "      <td>0</td>\n",
       "      <td>0</td>\n",
       "      <td>3711</td>\n",
       "      <td>0.007874</td>\n",
       "      <td>01:55</td>\n",
       "      <td>False</td>\n",
       "      <td>1</td>\n",
       "      <td>4</td>\n",
       "      <td>5</td>\n",
       "      <td>5</td>\n",
       "    </tr>\n",
       "    <tr>\n",
       "      <th>1</th>\n",
       "      <td>0</td>\n",
       "      <td>BIG</td>\n",
       "      <td>Astralis</td>\n",
       "      <td>Full Eco</td>\n",
       "      <td>Full Eco</td>\n",
       "      <td>1000</td>\n",
       "      <td>1000</td>\n",
       "      <td>3400</td>\n",
       "      <td>3450</td>\n",
       "      <td>T</td>\n",
       "      <td>...</td>\n",
       "      <td>0</td>\n",
       "      <td>0</td>\n",
       "      <td>3775</td>\n",
       "      <td>0.511811</td>\n",
       "      <td>01:55</td>\n",
       "      <td>False</td>\n",
       "      <td>1</td>\n",
       "      <td>4</td>\n",
       "      <td>5</td>\n",
       "      <td>5</td>\n",
       "    </tr>\n",
       "    <tr>\n",
       "      <th>2</th>\n",
       "      <td>0</td>\n",
       "      <td>BIG</td>\n",
       "      <td>Astralis</td>\n",
       "      <td>Full Eco</td>\n",
       "      <td>Full Eco</td>\n",
       "      <td>1000</td>\n",
       "      <td>1000</td>\n",
       "      <td>3400</td>\n",
       "      <td>3450</td>\n",
       "      <td>T</td>\n",
       "      <td>...</td>\n",
       "      <td>0</td>\n",
       "      <td>0</td>\n",
       "      <td>3839</td>\n",
       "      <td>1.015748</td>\n",
       "      <td>01:54</td>\n",
       "      <td>False</td>\n",
       "      <td>1</td>\n",
       "      <td>4</td>\n",
       "      <td>5</td>\n",
       "      <td>5</td>\n",
       "    </tr>\n",
       "    <tr>\n",
       "      <th>3</th>\n",
       "      <td>0</td>\n",
       "      <td>BIG</td>\n",
       "      <td>Astralis</td>\n",
       "      <td>Full Eco</td>\n",
       "      <td>Full Eco</td>\n",
       "      <td>1000</td>\n",
       "      <td>1000</td>\n",
       "      <td>3400</td>\n",
       "      <td>3450</td>\n",
       "      <td>T</td>\n",
       "      <td>...</td>\n",
       "      <td>0</td>\n",
       "      <td>0</td>\n",
       "      <td>3903</td>\n",
       "      <td>1.519685</td>\n",
       "      <td>01:54</td>\n",
       "      <td>False</td>\n",
       "      <td>1</td>\n",
       "      <td>4</td>\n",
       "      <td>5</td>\n",
       "      <td>5</td>\n",
       "    </tr>\n",
       "    <tr>\n",
       "      <th>4</th>\n",
       "      <td>0</td>\n",
       "      <td>BIG</td>\n",
       "      <td>Astralis</td>\n",
       "      <td>Full Eco</td>\n",
       "      <td>Full Eco</td>\n",
       "      <td>1000</td>\n",
       "      <td>1000</td>\n",
       "      <td>3400</td>\n",
       "      <td>3450</td>\n",
       "      <td>T</td>\n",
       "      <td>...</td>\n",
       "      <td>0</td>\n",
       "      <td>0</td>\n",
       "      <td>3967</td>\n",
       "      <td>2.023622</td>\n",
       "      <td>01:53</td>\n",
       "      <td>False</td>\n",
       "      <td>1</td>\n",
       "      <td>4</td>\n",
       "      <td>5</td>\n",
       "      <td>5</td>\n",
       "    </tr>\n",
       "  </tbody>\n",
       "</table>\n",
       "<p>5 rows × 21 columns</p>\n",
       "</div>"
      ],
      "text/plain": [
       "   round_idx ctTeam     tTeam ctBuyType  tBuyType  ctEqVal  tEqVal  ctSpend  \\\n",
       "0          0    BIG  Astralis  Full Eco  Full Eco     1000    1000     3400   \n",
       "1          0    BIG  Astralis  Full Eco  Full Eco     1000    1000     3400   \n",
       "2          0    BIG  Astralis  Full Eco  Full Eco     1000    1000     3400   \n",
       "3          0    BIG  Astralis  Full Eco  Full Eco     1000    1000     3400   \n",
       "4          0    BIG  Astralis  Full Eco  Full Eco     1000    1000     3400   \n",
       "\n",
       "   tSpend rnd_winner  ... team1_score  team2_score  tick   seconds  clock  \\\n",
       "0    3450          T  ...           0            0  3711  0.007874  01:55   \n",
       "1    3450          T  ...           0            0  3775  0.511811  01:55   \n",
       "2    3450          T  ...           0            0  3839  1.015748  01:54   \n",
       "3    3450          T  ...           0            0  3903  1.519685  01:54   \n",
       "4    3450          T  ...           0            0  3967  2.023622  01:53   \n",
       "\n",
       "  bomb_planted  num_util_ct  num_util_t  num_ct_alive  num_t_alive  \n",
       "0        False            1           4             5            5  \n",
       "1        False            1           4             5            5  \n",
       "2        False            1           4             5            5  \n",
       "3        False            1           4             5            5  \n",
       "4        False            1           4             5            5  \n",
       "\n",
       "[5 rows x 21 columns]"
      ]
     },
     "execution_count": 32,
     "metadata": {},
     "output_type": "execute_result"
    }
   ],
   "source": [
    "# Load first few rows of the CSV file\n",
    "df = pd.read_csv(CSV_PATH, nrows=1000)\n",
    "print(f\"DataFrame shape: {df.shape}\")\n",
    "print(f\"\\nColumns:\\n{df.columns.tolist()}\")\n",
    "df.head()"
   ]
  },
  {
   "cell_type": "code",
   "execution_count": 3,
   "id": "3fc7ecda",
   "metadata": {},
   "outputs": [
    {
     "name": "stdout",
     "output_type": "stream",
     "text": [
      "<class 'pandas.core.frame.DataFrame'>\n",
      "RangeIndex: 1000 entries, 0 to 999\n",
      "Data columns (total 21 columns):\n",
      " #   Column        Non-Null Count  Dtype  \n",
      "---  ------        --------------  -----  \n",
      " 0   round_idx     1000 non-null   int64  \n",
      " 1   ctTeam        1000 non-null   object \n",
      " 2   tTeam         1000 non-null   object \n",
      " 3   ctBuyType     1000 non-null   object \n",
      " 4   tBuyType      1000 non-null   object \n",
      " 5   ctEqVal       1000 non-null   int64  \n",
      " 6   tEqVal        1000 non-null   int64  \n",
      " 7   ctSpend       1000 non-null   int64  \n",
      " 8   tSpend        1000 non-null   int64  \n",
      " 9   rnd_winner    1000 non-null   object \n",
      " 10  match_id      1000 non-null   object \n",
      " 11  team1_score   1000 non-null   int64  \n",
      " 12  team2_score   1000 non-null   int64  \n",
      " 13  tick          1000 non-null   int64  \n",
      " 14  seconds       1000 non-null   float64\n",
      " 15  clock         1000 non-null   object \n",
      " 16  bomb_planted  1000 non-null   bool   \n",
      " 17  num_util_ct   1000 non-null   int64  \n",
      " 18  num_util_t    1000 non-null   int64  \n",
      " 19  num_ct_alive  1000 non-null   int64  \n",
      " 20  num_t_alive   1000 non-null   int64  \n",
      "dtypes: bool(1), float64(1), int64(12), object(7)\n",
      "memory usage: 157.4+ KB\n"
     ]
    }
   ],
   "source": [
    "# Check data types and basic statistics\n",
    "df.info()"
   ]
  },
  {
   "cell_type": "code",
   "execution_count": 4,
   "id": "f19fff56",
   "metadata": {},
   "outputs": [
    {
     "data": {
      "image/png": "[encoded data removed]",
      "text/plain": [
       "<Figure size 1000x600 with 1 Axes>"
      ]
     },
     "metadata": {},
     "output_type": "display_data"
    },
    {
     "name": "stdout",
     "output_type": "stream",
     "text": [
      "Average frames per round: 166.7\n",
      "Minimum frames per round: 27\n",
      "Maximum frames per round: 282\n"
     ]
    }
   ],
   "source": [
    "# Explore round distribution\n",
    "round_counts = df.groupby(['match_id', 'round_idx']).size()\n",
    "plt.figure(figsize=(10, 6))\n",
    "sns.histplot(round_counts, kde=True)\n",
    "plt.title('Distribution of Frames per Round')\n",
    "plt.xlabel('Number of Frames')\n",
    "plt.ylabel('Count')\n",
    "plt.grid(alpha=0.3)\n",
    "plt.show()\n",
    "\n",
    "print(f\"Average frames per round: {round_counts.mean():.1f}\")\n",
    "print(f\"Minimum frames per round: {round_counts.min()}\")\n",
    "print(f\"Maximum frames per round: {round_counts.max()}\")"
   ]
  },
  {
   "cell_type": "markdown",
   "id": "e1238127",
   "metadata": {},
   "source": [
    "## 2. Create Dataloaders\n",
    "\n",
    "Now let's create dataloaders to handle our data efficiently."
   ]
  },
  {
   "cell_type": "code",
   "execution_count": 5,
   "id": "a8ea88eb",
   "metadata": {},
   "outputs": [
    {
     "name": "stdout",
     "output_type": "stream",
     "text": [
      "Loading data from ../round_frame_data.csv\n",
      "Using features: ['ctEqVal', 'tEqVal', 'ctSpend', 'tSpend', 'team1_score', 'team2_score', 'tick', 'seconds', 'num_util_ct', 'num_util_t', 'num_ct_alive', 'num_t_alive']\n",
      "Found 269 unique rounds\n",
      "Preloading data...\n",
      "Preloaded 0/269 rounds\n",
      "Preloaded 269 rounds\n",
      "Dataset split: 188 train, 40 val, 41 test\n"
     ]
    }
   ],
   "source": [
    "# Create dataloaders\n",
    "train_loader, val_loader, test_loader = create_dataloaders(\n",
    "    csv_path=CSV_PATH,\n",
    "    batch_size=32,\n",
    "    train_ratio=0.7,\n",
    "    val_ratio=0.15,\n",
    "    test_ratio=0.15,\n",
    "    preload=True  # Set to False for very large datasets\n",
    ")"
   ]
  },
  {
   "cell_type": "code",
   "execution_count": 6,
   "id": "4df7fe5f",
   "metadata": {},
   "outputs": [
    {
     "name": "stdout",
     "output_type": "stream",
     "text": [
      "Batch keys: dict_keys(['features', 'labels', 'mask', 'metadata'])\n",
      "Features shape: torch.Size([32, 307, 12])\n",
      "Labels shape: torch.Size([32, 307])\n",
      "Mask shape: torch.Size([32, 307])\n"
     ]
    }
   ],
   "source": [
    "# Examine a batch\n",
    "batch = next(iter(train_loader))\n",
    "print(f\"Batch keys: {batch.keys()}\")\n",
    "print(f\"Features shape: {batch['features'].shape}\")  # [batch_size, max_seq_len, input_dim]\n",
    "print(f\"Labels shape: {batch['labels'].shape}\")     # [batch_size, max_seq_len]\n",
    "print(f\"Mask shape: {batch['mask'].shape}\")         # [batch_size, max_seq_len]"
   ]
  },
  {
   "cell_type": "markdown",
   "id": "d831d3b9",
   "metadata": {},
   "source": [
    "## 3. Create and Train the Model\n",
    "\n",
    "Now, let's create and train our LSTM model."
   ]
  },
  {
   "cell_type": "code",
   "execution_count": null,
   "id": "4696e064",
   "metadata": {},
   "outputs": [],
   "source": [
    "# Get input dimension from data\n",
    "input_dim = batch['features'].shape[-1]\n",
    "print(f\"Input dimension: {input_dim}\")\n",
    "\n",
    "# Set model hyperparameters\n",
    "hidden_dim = 64\n",
    "num_layers = 2\n",
    "dropout = 0.2\n",
    "\n",
    "# Create model\n",
    "model = LSTMWinPredictor(\n",
    "    input_dim=input_dim,\n",
    "    hidden_dim=hidden_dim,\n",
    "    num_layers=num_layers,\n",
    "    dropout=dropout\n",
    ")\n",
    "\n",
    "print(model)"
   ]
  },
  {
   "cell_type": "code",
   "execution_count": null,
   "id": "c97fffeb",
   "metadata": {},
   "outputs": [],
   "source": [
    "# Check if model already exists\n",
    "model_path = os.path.join(MODEL_DIR, \"best_model.pt\")\n",
    "\n",
    "if os.path.exists(model_path):\n",
    "    print(f\"Loading existing model from {model_path}\")\n",
    "    model.load_state_dict(torch.load(model_path, map_location=device))\n",
    "else:\n",
    "    print(f\"Training new model\")\n",
    "    train_results = train_model(\n",
    "        csv_path=CSV_PATH,\n",
    "        model_save_dir=MODEL_DIR,\n",
    "        input_dim=input_dim,\n",
    "        hidden_dim=hidden_dim,\n",
    "        num_layers=num_layers,\n",
    "        dropout=dropout,\n",
    "        batch_size=32,\n",
    "        num_epochs=10,  # Lower for demonstration\n",
    "        learning_rate=0.001,\n",
    "        patience=3\n",
    "    )\n",
    "    \n",
    "    # Load the best model\n",
    "    model.load_state_dict(torch.load(model_path, map_location=device))"
   ]
  },
  {
   "cell_type": "markdown",
   "id": "4f18a668",
   "metadata": {},
   "source": [
    "## 4. Evaluate and Visualize\n",
    "\n",
    "Now let's evaluate the model and visualize the results."
   ]
  },
  {
   "cell_type": "code",
   "execution_count": null,
   "id": "455b9966",
   "metadata": {},
   "outputs": [],
   "source": [
    "# Move model to device\n",
    "model = model.to(device)\n",
    "model.eval()\n",
    "\n",
    "# Get a test batch\n",
    "test_batch = next(iter(test_loader))\n",
    "features = test_batch['features'].to(device)\n",
    "labels = test_batch['labels']\n",
    "mask = test_batch['mask']\n",
    "metadata = test_batch['metadata']\n",
    "\n",
    "# Make predictions\n",
    "with torch.no_grad():\n",
    "    predictions = model(features).cpu()"
   ]
  },
  {
   "cell_type": "code",
   "execution_count": null,
   "id": "b784db75",
   "metadata": {},
   "outputs": [],
   "source": [
    "# Visualize predictions for a few examples\n",
    "n_examples = 3  # Number of examples to visualize\n",
    "\n",
    "for i in range(min(n_examples, len(metadata))):\n",
    "    # Get data for this example\n",
    "    example_preds = predictions[i]\n",
    "    example_labels = labels[i]\n",
    "    example_mask = mask[i]\n",
    "    match_id, round_idx = metadata[i]\n",
    "    \n",
    "    # Get non-padded values\n",
    "    valid_preds = example_preds[example_mask > 0]\n",
    "    valid_labels = example_labels[example_mask > 0]\n",
    "    \n",
    "    # Create visualization\n",
    "    fig_path = os.path.join(OUTPUT_DIR, f\"example_{i}_match_{match_id}_round_{round_idx}.png\")\n",
    "    \n",
    "    fig = visualize_round_predictions(\n",
    "        predictions=valid_preds,\n",
    "        labels=valid_labels,\n",
    "        match_id=match_id,\n",
    "        round_idx=round_idx,\n",
    "        save_path=fig_path\n",
    "    )\n",
    "    plt.show()"
   ]
  },
  {
   "cell_type": "markdown",
   "id": "2d141ea9",
   "metadata": {},
   "source": [
    "## 5. Calculate Performance Metrics\n",
    "\n",
    "Let's calculate some performance metrics for the model on the test set."
   ]
  },
  {
   "cell_type": "code",
   "execution_count": null,
   "id": "b70b8f0d",
   "metadata": {},
   "outputs": [],
   "source": [
    "from sklearn.metrics import accuracy_score, precision_score, recall_score, f1_score, roc_auc_score\n",
    "\n",
    "def evaluate_batch(predictions, labels, mask, threshold=0.5):\n",
    "    \"\"\"Evaluate predictions for a batch.\"\"\"\n",
    "    # Flatten tensors and apply mask\n",
    "    flat_preds = predictions.view(-1)[mask.view(-1) > 0].numpy()\n",
    "    flat_labels = labels.view(-1)[mask.view(-1) > 0].numpy()\n",
    "    \n",
    "    # Convert to binary predictions\n",
    "    binary_preds = (flat_preds >= threshold).astype(int)\n",
    "    \n",
    "    # Calculate metrics\n",
    "    metrics = {\n",
    "        'accuracy': accuracy_score(flat_labels, binary_preds),\n",
    "        'precision': precision_score(flat_labels, binary_preds, zero_division=0),\n",
    "        'recall': recall_score(flat_labels, binary_preds, zero_division=0),\n",
    "        'f1': f1_score(flat_labels, binary_preds, zero_division=0),\n",
    "        'roc_auc': roc_auc_score(flat_labels, flat_preds) if len(np.unique(flat_labels)) > 1 else np.nan\n",
    "    }\n",
    "    \n",
    "    return metrics\n",
    "\n",
    "# Evaluate the batch\n",
    "metrics = evaluate_batch(predictions, labels, mask)\n",
    "\n",
    "print(\"\\nPerformance Metrics (Test Batch):\")\n",
    "for metric, value in metrics.items():\n",
    "    print(f\"{metric.capitalize()}: {value:.4f}\")"
   ]
  },
  {
   "cell_type": "markdown",
   "id": "38bc5fd2",
   "metadata": {},
   "source": [
    "## 6. Conclusion\n",
    "\n",
    "In this notebook, we've demonstrated how to:\n",
    "\n",
    "1. Load and explore CS:GO round data\n",
    "2. Create PyTorch dataloaders with proper padding for variable-length sequences\n",
    "3. Define and train an LSTM model for predicting round outcomes\n",
    "4. Make predictions and visualize the results\n",
    "5. Evaluate the model's performance\n",
    "\n",
    "The model provides win probabilities at each time step of a round, which could be useful for real-time CS:GO match analysis and commentary."
   ]
  }
 ],
 "metadata": {
  "kernelspec": {
   "display_name": "mbml",
   "language": "python",
   "name": "python3"
  },
  "language_info": {
   "codemirror_mode": {
    "name": "ipython",
    "version": 3
   },
   "file_extension": ".py",
   "mimetype": "text/x-python",
   "name": "python",
   "nbconvert_exporter": "python",
   "pygments_lexer": "ipython3",
   "version": "3.12.9"
  }
 },
 "nbformat": 4,
 "nbformat_minor": 5
}
